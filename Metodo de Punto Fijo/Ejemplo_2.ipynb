{
 "cells": [
  {
   "cell_type": "markdown",
   "id": "9127ca1e",
   "metadata": {},
   "source": [
    "# Ejemplo 3\n",
    "\n",
    "Considere la siguiente ecuacción\n",
    "\n",
    "$$\n",
    "f(x) = x \\cdot sen(x) + 2x - 5 = 0\n",
    "$$\n",
    "\n",
    "Obtenga un raíz real por medio del método de punto fijo proponiendo dos formas de $g(x)$.\n",
    "\n",
    "\n",
    "[![H9osZkG.md.png](https://iili.io/H9osZkG.md.png)](https://freeimage.host/i/H9osZkG)\n",
    "\n",
    "<br>\n",
    "\n",
    "Realice los cálculos en su cuaderno tomando por lo menos 4 puntos decimales."
   ]
  }
 ],
 "metadata": {
  "kernelspec": {
   "display_name": "Python 3 (ipykernel)",
   "language": "python",
   "name": "python3"
  },
  "language_info": {
   "codemirror_mode": {
    "name": "ipython",
    "version": 3
   },
   "file_extension": ".py",
   "mimetype": "text/x-python",
   "name": "python",
   "nbconvert_exporter": "python",
   "pygments_lexer": "ipython3",
   "version": "3.9.12"
  }
 },
 "nbformat": 4,
 "nbformat_minor": 5
}
